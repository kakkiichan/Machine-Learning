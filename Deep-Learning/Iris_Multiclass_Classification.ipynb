{
  "nbformat": 4,
  "nbformat_minor": 0,
  "metadata": {
    "colab": {
      "name": "Iris_Multiclass_Classification.ipynb",
      "provenance": [],
      "authorship_tag": "ABX9TyMFTXO8T7geybqRSNMOSrnn",
      "include_colab_link": true
    },
    "kernelspec": {
      "name": "python3",
      "display_name": "Python 3"
    }
  },
  "cells": [
    {
      "cell_type": "markdown",
      "metadata": {
        "id": "view-in-github",
        "colab_type": "text"
      },
      "source": [
        "<a href=\"https://colab.research.google.com/github/kakkiichan/Machine-Learning/blob/master/Deep-Learning/Iris_Multiclass_Classification.ipynb\" target=\"_parent\"><img src=\"https://colab.research.google.com/assets/colab-badge.svg\" alt=\"Open In Colab\"/></a>"
      ]
    },
    {
      "cell_type": "code",
      "metadata": {
        "id": "NIdl78t3-sJD",
        "colab_type": "code",
        "colab": {}
      },
      "source": [
        "from sklearn import datasets\n",
        "iris = datasets.load_iris()"
      ],
      "execution_count": 0,
      "outputs": []
    },
    {
      "cell_type": "code",
      "metadata": {
        "id": "epnNLUHr-70c",
        "colab_type": "code",
        "colab": {
          "base_uri": "https://localhost:8080/",
          "height": 34
        },
        "outputId": "436aace6-7347-4cfd-a37f-1677c23a80fc"
      },
      "source": [
        "iris.keys()"
      ],
      "execution_count": 2,
      "outputs": [
        {
          "output_type": "execute_result",
          "data": {
            "text/plain": [
              "dict_keys(['data', 'target', 'target_names', 'DESCR', 'feature_names', 'filename'])"
            ]
          },
          "metadata": {
            "tags": []
          },
          "execution_count": 2
        }
      ]
    },
    {
      "cell_type": "code",
      "metadata": {
        "id": "I3kD3D_E_Cie",
        "colab_type": "code",
        "colab": {
          "base_uri": "https://localhost:8080/",
          "height": 136
        },
        "outputId": "21127cda-314c-4c42-c677-521c3194be13"
      },
      "source": [
        "X = iris.data\n",
        "T = iris.target\n",
        "T"
      ],
      "execution_count": 4,
      "outputs": [
        {
          "output_type": "execute_result",
          "data": {
            "text/plain": [
              "array([0, 0, 0, 0, 0, 0, 0, 0, 0, 0, 0, 0, 0, 0, 0, 0, 0, 0, 0, 0, 0, 0,\n",
              "       0, 0, 0, 0, 0, 0, 0, 0, 0, 0, 0, 0, 0, 0, 0, 0, 0, 0, 0, 0, 0, 0,\n",
              "       0, 0, 0, 0, 0, 0, 1, 1, 1, 1, 1, 1, 1, 1, 1, 1, 1, 1, 1, 1, 1, 1,\n",
              "       1, 1, 1, 1, 1, 1, 1, 1, 1, 1, 1, 1, 1, 1, 1, 1, 1, 1, 1, 1, 1, 1,\n",
              "       1, 1, 1, 1, 1, 1, 1, 1, 1, 1, 1, 1, 2, 2, 2, 2, 2, 2, 2, 2, 2, 2,\n",
              "       2, 2, 2, 2, 2, 2, 2, 2, 2, 2, 2, 2, 2, 2, 2, 2, 2, 2, 2, 2, 2, 2,\n",
              "       2, 2, 2, 2, 2, 2, 2, 2, 2, 2, 2, 2, 2, 2, 2, 2, 2, 2])"
            ]
          },
          "metadata": {
            "tags": []
          },
          "execution_count": 4
        }
      ]
    },
    {
      "cell_type": "code",
      "metadata": {
        "id": "UAvzrhfk_KR3",
        "colab_type": "code",
        "colab": {
          "base_uri": "https://localhost:8080/",
          "height": 80
        },
        "outputId": "bc606e74-04e3-445a-b6c6-f6bfa7f20a5a"
      },
      "source": [
        "# One-vs-Rest な配列に変換\n",
        "from keras.utils import np_utils\n",
        "T = np_utils.to_categorical(T)"
      ],
      "execution_count": 6,
      "outputs": [
        {
          "output_type": "stream",
          "text": [
            "Using TensorFlow backend.\n"
          ],
          "name": "stderr"
        },
        {
          "output_type": "display_data",
          "data": {
            "text/html": [
              "<p style=\"color: red;\">\n",
              "The default version of TensorFlow in Colab will soon switch to TensorFlow 2.x.<br>\n",
              "We recommend you <a href=\"https://www.tensorflow.org/guide/migrate\" target=\"_blank\">upgrade</a> now \n",
              "or ensure your notebook will continue to use TensorFlow 1.x via the <code>%tensorflow_version 1.x</code> magic:\n",
              "<a href=\"https://colab.research.google.com/notebooks/tensorflow_version.ipynb\" target=\"_blank\">more info</a>.</p>\n"
            ],
            "text/plain": [
              "<IPython.core.display.HTML object>"
            ]
          },
          "metadata": {
            "tags": []
          }
        }
      ]
    },
    {
      "cell_type": "code",
      "metadata": {
        "id": "l5mpw6E4_cH4",
        "colab_type": "code",
        "colab": {
          "base_uri": "https://localhost:8080/",
          "height": 1000
        },
        "outputId": "844e1c2b-ffda-4ee6-cb7f-8c9092bd1833"
      },
      "source": [
        "T"
      ],
      "execution_count": 7,
      "outputs": [
        {
          "output_type": "execute_result",
          "data": {
            "text/plain": [
              "array([[1., 0., 0.],\n",
              "       [1., 0., 0.],\n",
              "       [1., 0., 0.],\n",
              "       [1., 0., 0.],\n",
              "       [1., 0., 0.],\n",
              "       [1., 0., 0.],\n",
              "       [1., 0., 0.],\n",
              "       [1., 0., 0.],\n",
              "       [1., 0., 0.],\n",
              "       [1., 0., 0.],\n",
              "       [1., 0., 0.],\n",
              "       [1., 0., 0.],\n",
              "       [1., 0., 0.],\n",
              "       [1., 0., 0.],\n",
              "       [1., 0., 0.],\n",
              "       [1., 0., 0.],\n",
              "       [1., 0., 0.],\n",
              "       [1., 0., 0.],\n",
              "       [1., 0., 0.],\n",
              "       [1., 0., 0.],\n",
              "       [1., 0., 0.],\n",
              "       [1., 0., 0.],\n",
              "       [1., 0., 0.],\n",
              "       [1., 0., 0.],\n",
              "       [1., 0., 0.],\n",
              "       [1., 0., 0.],\n",
              "       [1., 0., 0.],\n",
              "       [1., 0., 0.],\n",
              "       [1., 0., 0.],\n",
              "       [1., 0., 0.],\n",
              "       [1., 0., 0.],\n",
              "       [1., 0., 0.],\n",
              "       [1., 0., 0.],\n",
              "       [1., 0., 0.],\n",
              "       [1., 0., 0.],\n",
              "       [1., 0., 0.],\n",
              "       [1., 0., 0.],\n",
              "       [1., 0., 0.],\n",
              "       [1., 0., 0.],\n",
              "       [1., 0., 0.],\n",
              "       [1., 0., 0.],\n",
              "       [1., 0., 0.],\n",
              "       [1., 0., 0.],\n",
              "       [1., 0., 0.],\n",
              "       [1., 0., 0.],\n",
              "       [1., 0., 0.],\n",
              "       [1., 0., 0.],\n",
              "       [1., 0., 0.],\n",
              "       [1., 0., 0.],\n",
              "       [1., 0., 0.],\n",
              "       [0., 1., 0.],\n",
              "       [0., 1., 0.],\n",
              "       [0., 1., 0.],\n",
              "       [0., 1., 0.],\n",
              "       [0., 1., 0.],\n",
              "       [0., 1., 0.],\n",
              "       [0., 1., 0.],\n",
              "       [0., 1., 0.],\n",
              "       [0., 1., 0.],\n",
              "       [0., 1., 0.],\n",
              "       [0., 1., 0.],\n",
              "       [0., 1., 0.],\n",
              "       [0., 1., 0.],\n",
              "       [0., 1., 0.],\n",
              "       [0., 1., 0.],\n",
              "       [0., 1., 0.],\n",
              "       [0., 1., 0.],\n",
              "       [0., 1., 0.],\n",
              "       [0., 1., 0.],\n",
              "       [0., 1., 0.],\n",
              "       [0., 1., 0.],\n",
              "       [0., 1., 0.],\n",
              "       [0., 1., 0.],\n",
              "       [0., 1., 0.],\n",
              "       [0., 1., 0.],\n",
              "       [0., 1., 0.],\n",
              "       [0., 1., 0.],\n",
              "       [0., 1., 0.],\n",
              "       [0., 1., 0.],\n",
              "       [0., 1., 0.],\n",
              "       [0., 1., 0.],\n",
              "       [0., 1., 0.],\n",
              "       [0., 1., 0.],\n",
              "       [0., 1., 0.],\n",
              "       [0., 1., 0.],\n",
              "       [0., 1., 0.],\n",
              "       [0., 1., 0.],\n",
              "       [0., 1., 0.],\n",
              "       [0., 1., 0.],\n",
              "       [0., 1., 0.],\n",
              "       [0., 1., 0.],\n",
              "       [0., 1., 0.],\n",
              "       [0., 1., 0.],\n",
              "       [0., 1., 0.],\n",
              "       [0., 1., 0.],\n",
              "       [0., 1., 0.],\n",
              "       [0., 1., 0.],\n",
              "       [0., 1., 0.],\n",
              "       [0., 1., 0.],\n",
              "       [0., 1., 0.],\n",
              "       [0., 0., 1.],\n",
              "       [0., 0., 1.],\n",
              "       [0., 0., 1.],\n",
              "       [0., 0., 1.],\n",
              "       [0., 0., 1.],\n",
              "       [0., 0., 1.],\n",
              "       [0., 0., 1.],\n",
              "       [0., 0., 1.],\n",
              "       [0., 0., 1.],\n",
              "       [0., 0., 1.],\n",
              "       [0., 0., 1.],\n",
              "       [0., 0., 1.],\n",
              "       [0., 0., 1.],\n",
              "       [0., 0., 1.],\n",
              "       [0., 0., 1.],\n",
              "       [0., 0., 1.],\n",
              "       [0., 0., 1.],\n",
              "       [0., 0., 1.],\n",
              "       [0., 0., 1.],\n",
              "       [0., 0., 1.],\n",
              "       [0., 0., 1.],\n",
              "       [0., 0., 1.],\n",
              "       [0., 0., 1.],\n",
              "       [0., 0., 1.],\n",
              "       [0., 0., 1.],\n",
              "       [0., 0., 1.],\n",
              "       [0., 0., 1.],\n",
              "       [0., 0., 1.],\n",
              "       [0., 0., 1.],\n",
              "       [0., 0., 1.],\n",
              "       [0., 0., 1.],\n",
              "       [0., 0., 1.],\n",
              "       [0., 0., 1.],\n",
              "       [0., 0., 1.],\n",
              "       [0., 0., 1.],\n",
              "       [0., 0., 1.],\n",
              "       [0., 0., 1.],\n",
              "       [0., 0., 1.],\n",
              "       [0., 0., 1.],\n",
              "       [0., 0., 1.],\n",
              "       [0., 0., 1.],\n",
              "       [0., 0., 1.],\n",
              "       [0., 0., 1.],\n",
              "       [0., 0., 1.],\n",
              "       [0., 0., 1.],\n",
              "       [0., 0., 1.],\n",
              "       [0., 0., 1.],\n",
              "       [0., 0., 1.],\n",
              "       [0., 0., 1.],\n",
              "       [0., 0., 1.]], dtype=float32)"
            ]
          },
          "metadata": {
            "tags": []
          },
          "execution_count": 7
        }
      ]
    },
    {
      "cell_type": "code",
      "metadata": {
        "id": "L0dtIw5N_mXA",
        "colab_type": "code",
        "colab": {
          "base_uri": "https://localhost:8080/",
          "height": 34
        },
        "outputId": "964a2f11-90b9-42ac-b052-3c2697b34d19"
      },
      "source": [
        "from sklearn.model_selection import train_test_split\n",
        "import numpy as np\n",
        "np.random.seed(0) # 乱数初期化を固定値に\n",
        "train_x, test_x, train_t, test_t = train_test_split(X, T, train_size=0.8, test_size=0.2)\n",
        "len(train_x), len(test_x), len(train_t), len(test_t) # サイズ表示\n"
      ],
      "execution_count": 9,
      "outputs": [
        {
          "output_type": "execute_result",
          "data": {
            "text/plain": [
              "(120, 30, 120, 30)"
            ]
          },
          "metadata": {
            "tags": []
          },
          "execution_count": 9
        }
      ]
    },
    {
      "cell_type": "code",
      "metadata": {
        "id": "vJ-B8Ui5_-K_",
        "colab_type": "code",
        "colab": {
          "base_uri": "https://localhost:8080/",
          "height": 1000
        },
        "outputId": "41cc6e0e-e2bb-4c5c-f4c9-6415dcb74737"
      },
      "source": [
        "from keras.models import Sequential\n",
        "from keras.layers import Dense, Activation\n",
        "from keras.optimizers import SGD\n",
        "          \n",
        "model = Sequential()\n",
        "model.add(Dense(input_dim=4, units=3)) # 入力が4種の特徴、3つに分離\n",
        "model.add(Activation('softmax'))\n",
        "model.compile(loss='categorical_crossentropy', optimizer=SGD(lr=0.1))\n",
        "model.fit(train_x, train_t, epochs=50, batch_size=10) # エポック50, ミニバッチ 10"
      ],
      "execution_count": 10,
      "outputs": [
        {
          "output_type": "stream",
          "text": [
            "WARNING:tensorflow:From /usr/local/lib/python3.6/dist-packages/keras/backend/tensorflow_backend.py:66: The name tf.get_default_graph is deprecated. Please use tf.compat.v1.get_default_graph instead.\n",
            "\n",
            "WARNING:tensorflow:From /usr/local/lib/python3.6/dist-packages/keras/backend/tensorflow_backend.py:541: The name tf.placeholder is deprecated. Please use tf.compat.v1.placeholder instead.\n",
            "\n",
            "WARNING:tensorflow:From /usr/local/lib/python3.6/dist-packages/keras/backend/tensorflow_backend.py:4432: The name tf.random_uniform is deprecated. Please use tf.random.uniform instead.\n",
            "\n",
            "WARNING:tensorflow:From /usr/local/lib/python3.6/dist-packages/keras/optimizers.py:793: The name tf.train.Optimizer is deprecated. Please use tf.compat.v1.train.Optimizer instead.\n",
            "\n",
            "WARNING:tensorflow:From /usr/local/lib/python3.6/dist-packages/keras/backend/tensorflow_backend.py:3576: The name tf.log is deprecated. Please use tf.math.log instead.\n",
            "\n",
            "WARNING:tensorflow:From /usr/local/lib/python3.6/dist-packages/tensorflow_core/python/ops/math_grad.py:1424: where (from tensorflow.python.ops.array_ops) is deprecated and will be removed in a future version.\n",
            "Instructions for updating:\n",
            "Use tf.where in 2.0, which has the same broadcast rule as np.where\n",
            "WARNING:tensorflow:From /usr/local/lib/python3.6/dist-packages/keras/backend/tensorflow_backend.py:1033: The name tf.assign_add is deprecated. Please use tf.compat.v1.assign_add instead.\n",
            "\n",
            "WARNING:tensorflow:From /usr/local/lib/python3.6/dist-packages/keras/backend/tensorflow_backend.py:1020: The name tf.assign is deprecated. Please use tf.compat.v1.assign instead.\n",
            "\n",
            "WARNING:tensorflow:From /usr/local/lib/python3.6/dist-packages/keras/backend/tensorflow_backend.py:3005: The name tf.Session is deprecated. Please use tf.compat.v1.Session instead.\n",
            "\n",
            "Epoch 1/50\n",
            "WARNING:tensorflow:From /usr/local/lib/python3.6/dist-packages/keras/backend/tensorflow_backend.py:190: The name tf.get_default_session is deprecated. Please use tf.compat.v1.get_default_session instead.\n",
            "\n",
            "WARNING:tensorflow:From /usr/local/lib/python3.6/dist-packages/keras/backend/tensorflow_backend.py:197: The name tf.ConfigProto is deprecated. Please use tf.compat.v1.ConfigProto instead.\n",
            "\n",
            "WARNING:tensorflow:From /usr/local/lib/python3.6/dist-packages/keras/backend/tensorflow_backend.py:207: The name tf.global_variables is deprecated. Please use tf.compat.v1.global_variables instead.\n",
            "\n",
            "WARNING:tensorflow:From /usr/local/lib/python3.6/dist-packages/keras/backend/tensorflow_backend.py:216: The name tf.is_variable_initialized is deprecated. Please use tf.compat.v1.is_variable_initialized instead.\n",
            "\n",
            "WARNING:tensorflow:From /usr/local/lib/python3.6/dist-packages/keras/backend/tensorflow_backend.py:223: The name tf.variables_initializer is deprecated. Please use tf.compat.v1.variables_initializer instead.\n",
            "\n",
            "120/120 [==============================] - 1s 4ms/step - loss: 1.7483\n",
            "Epoch 2/50\n",
            "120/120 [==============================] - 0s 163us/step - loss: 0.8176\n",
            "Epoch 3/50\n",
            "120/120 [==============================] - 0s 140us/step - loss: 0.9922\n",
            "Epoch 4/50\n",
            "120/120 [==============================] - 0s 135us/step - loss: 0.7833\n",
            "Epoch 5/50\n",
            "120/120 [==============================] - 0s 128us/step - loss: 0.5650\n",
            "Epoch 6/50\n",
            "120/120 [==============================] - 0s 126us/step - loss: 0.4934\n",
            "Epoch 7/50\n",
            "120/120 [==============================] - 0s 132us/step - loss: 0.8877\n",
            "Epoch 8/50\n",
            "120/120 [==============================] - 0s 134us/step - loss: 0.7910\n",
            "Epoch 9/50\n",
            "120/120 [==============================] - 0s 141us/step - loss: 0.6218\n",
            "Epoch 10/50\n",
            "120/120 [==============================] - 0s 156us/step - loss: 0.4507\n",
            "Epoch 11/50\n",
            "120/120 [==============================] - 0s 139us/step - loss: 0.4504\n",
            "Epoch 12/50\n",
            "120/120 [==============================] - 0s 126us/step - loss: 0.3691\n",
            "Epoch 13/50\n",
            "120/120 [==============================] - 0s 132us/step - loss: 0.4554\n",
            "Epoch 14/50\n",
            "120/120 [==============================] - 0s 147us/step - loss: 0.4307\n",
            "Epoch 15/50\n",
            "120/120 [==============================] - 0s 125us/step - loss: 0.6407\n",
            "Epoch 16/50\n",
            "120/120 [==============================] - 0s 135us/step - loss: 0.3291\n",
            "Epoch 17/50\n",
            "120/120 [==============================] - 0s 134us/step - loss: 0.3498\n",
            "Epoch 18/50\n",
            "120/120 [==============================] - 0s 137us/step - loss: 0.3894\n",
            "Epoch 19/50\n",
            "120/120 [==============================] - 0s 147us/step - loss: 0.4661\n",
            "Epoch 20/50\n",
            "120/120 [==============================] - 0s 126us/step - loss: 0.4342\n",
            "Epoch 21/50\n",
            "120/120 [==============================] - 0s 139us/step - loss: 0.2808\n",
            "Epoch 22/50\n",
            "120/120 [==============================] - 0s 147us/step - loss: 0.3065\n",
            "Epoch 23/50\n",
            "120/120 [==============================] - 0s 183us/step - loss: 0.3594\n",
            "Epoch 24/50\n",
            "120/120 [==============================] - 0s 165us/step - loss: 0.2900\n",
            "Epoch 25/50\n",
            "120/120 [==============================] - 0s 153us/step - loss: 0.2729\n",
            "Epoch 26/50\n",
            "120/120 [==============================] - 0s 176us/step - loss: 0.2274\n",
            "Epoch 27/50\n",
            "120/120 [==============================] - 0s 159us/step - loss: 0.2782\n",
            "Epoch 28/50\n",
            "120/120 [==============================] - 0s 165us/step - loss: 0.2961\n",
            "Epoch 29/50\n",
            "120/120 [==============================] - 0s 191us/step - loss: 0.3940\n",
            "Epoch 30/50\n",
            "120/120 [==============================] - 0s 165us/step - loss: 0.2313\n",
            "Epoch 31/50\n",
            "120/120 [==============================] - 0s 149us/step - loss: 0.2307\n",
            "Epoch 32/50\n",
            "120/120 [==============================] - 0s 145us/step - loss: 0.2592\n",
            "Epoch 33/50\n",
            "120/120 [==============================] - 0s 133us/step - loss: 0.2230\n",
            "Epoch 34/50\n",
            "120/120 [==============================] - 0s 126us/step - loss: 0.2016\n",
            "Epoch 35/50\n",
            "120/120 [==============================] - 0s 126us/step - loss: 0.3373\n",
            "Epoch 36/50\n",
            "120/120 [==============================] - 0s 151us/step - loss: 0.1911\n",
            "Epoch 37/50\n",
            "120/120 [==============================] - 0s 126us/step - loss: 0.2164\n",
            "Epoch 38/50\n",
            "120/120 [==============================] - 0s 125us/step - loss: 0.1839\n",
            "Epoch 39/50\n",
            "120/120 [==============================] - 0s 132us/step - loss: 0.1820\n",
            "Epoch 40/50\n",
            "120/120 [==============================] - 0s 124us/step - loss: 0.1961\n",
            "Epoch 41/50\n",
            "120/120 [==============================] - 0s 141us/step - loss: 0.1949\n",
            "Epoch 42/50\n",
            "120/120 [==============================] - 0s 128us/step - loss: 0.2617\n",
            "Epoch 43/50\n",
            "120/120 [==============================] - 0s 137us/step - loss: 0.2035\n",
            "Epoch 44/50\n",
            "120/120 [==============================] - 0s 124us/step - loss: 0.1647\n",
            "Epoch 45/50\n",
            "120/120 [==============================] - 0s 130us/step - loss: 0.1698\n",
            "Epoch 46/50\n",
            "120/120 [==============================] - 0s 143us/step - loss: 0.2395\n",
            "Epoch 47/50\n",
            "120/120 [==============================] - 0s 129us/step - loss: 0.2406\n",
            "Epoch 48/50\n",
            "120/120 [==============================] - 0s 125us/step - loss: 0.1654\n",
            "Epoch 49/50\n",
            "120/120 [==============================] - 0s 122us/step - loss: 0.1517\n",
            "Epoch 50/50\n",
            "120/120 [==============================] - 0s 140us/step - loss: 0.1782\n"
          ],
          "name": "stdout"
        },
        {
          "output_type": "execute_result",
          "data": {
            "text/plain": [
              "<keras.callbacks.History at 0x7f941737b048>"
            ]
          },
          "metadata": {
            "tags": []
          },
          "execution_count": 10
        }
      ]
    },
    {
      "cell_type": "code",
      "metadata": {
        "id": "dbZmfVMUAXXu",
        "colab_type": "code",
        "colab": {
          "base_uri": "https://localhost:8080/",
          "height": 51
        },
        "outputId": "b23965e1-0381-489c-d739-76fbe7947f15"
      },
      "source": [
        "Y = model.predict_classes(test_x, batch_size=10) # ミニバッチは訓練時と同じく 10\n",
        "Y"
      ],
      "execution_count": 12,
      "outputs": [
        {
          "output_type": "execute_result",
          "data": {
            "text/plain": [
              "array([2, 1, 0, 2, 0, 2, 0, 1, 1, 1, 2, 1, 1, 1, 1, 0, 1, 1, 0, 0, 2, 2,\n",
              "       0, 0, 2, 0, 0, 1, 1, 0])"
            ]
          },
          "metadata": {
            "tags": []
          },
          "execution_count": 12
        }
      ]
    },
    {
      "cell_type": "code",
      "metadata": {
        "id": "C42A6OBLAnOc",
        "colab_type": "code",
        "colab": {
          "base_uri": "https://localhost:8080/",
          "height": 34
        },
        "outputId": "136f0958-3f81-4dd0-9ae7-0bc72508108f"
      },
      "source": [
        "import numpy as np\n",
        "_, T_index = np.where(test_t > 0)\n",
        "print(T_index)"
      ],
      "execution_count": 13,
      "outputs": [
        {
          "output_type": "stream",
          "text": [
            "[2 1 0 2 0 2 0 1 1 1 2 1 1 1 1 0 1 1 0 0 2 1 0 0 2 0 0 1 1 0]\n"
          ],
          "name": "stdout"
        }
      ]
    },
    {
      "cell_type": "code",
      "metadata": {
        "id": "kqeWvsdhAv_O",
        "colab_type": "code",
        "colab": {
          "base_uri": "https://localhost:8080/",
          "height": 85
        },
        "outputId": "90179dd3-2041-458f-9ebb-8cddba15fce8"
      },
      "source": [
        "Y == T_index"
      ],
      "execution_count": 14,
      "outputs": [
        {
          "output_type": "execute_result",
          "data": {
            "text/plain": [
              "array([ True,  True,  True,  True,  True,  True,  True,  True,  True,\n",
              "        True,  True,  True,  True,  True,  True,  True,  True,  True,\n",
              "        True,  True,  True, False,  True,  True,  True,  True,  True,\n",
              "        True,  True,  True])"
            ]
          },
          "metadata": {
            "tags": []
          },
          "execution_count": 14
        }
      ]
    },
    {
      "cell_type": "markdown",
      "metadata": {
        "id": "pw9lfxVeA6ou",
        "colab_type": "text"
      },
      "source": [
        "参考\n",
        "\n",
        "https://www.infiniteloop.co.jp/blog/2018/01/learning-keras-04/"
      ]
    }
  ]
}