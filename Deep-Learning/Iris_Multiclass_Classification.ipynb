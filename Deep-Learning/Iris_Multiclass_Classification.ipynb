{
  "nbformat": 4,
  "nbformat_minor": 0,
  "metadata": {
    "colab": {
      "name": "Iris_Multiclass_Classification.ipynb",
      "provenance": [],
      "authorship_tag": "ABX9TyOdc4v7ISIBWkYwXpThWU43",
      "include_colab_link": true
    },
    "kernelspec": {
      "name": "python3",
      "display_name": "Python 3"
    }
  },
  "cells": [
    {
      "cell_type": "markdown",
      "metadata": {
        "id": "view-in-github",
        "colab_type": "text"
      },
      "source": [
        "<a href=\"https://colab.research.google.com/github/kakkiichan/Machine-Learning/blob/master/Deep-Learning/Iris_Multiclass_Classification.ipynb\" target=\"_parent\"><img src=\"https://colab.research.google.com/assets/colab-badge.svg\" alt=\"Open In Colab\"/></a>"
      ]
    },
    {
      "cell_type": "code",
      "metadata": {
        "id": "NIdl78t3-sJD",
        "colab_type": "code",
        "colab": {}
      },
      "source": [
        "from sklearn import datasets\n",
        "iris = datasets.load_iris()"
      ],
      "execution_count": 0,
      "outputs": []
    },
    {
      "cell_type": "code",
      "metadata": {
        "id": "epnNLUHr-70c",
        "colab_type": "code",
        "outputId": "a70346fd-54af-4ef0-ab51-4740e9a1a2ce",
        "colab": {
          "base_uri": "https://localhost:8080/",
          "height": 34
        }
      },
      "source": [
        "iris.keys()"
      ],
      "execution_count": 2,
      "outputs": [
        {
          "output_type": "execute_result",
          "data": {
            "text/plain": [
              "dict_keys(['data', 'target', 'target_names', 'DESCR', 'feature_names', 'filename'])"
            ]
          },
          "metadata": {
            "tags": []
          },
          "execution_count": 2
        }
      ]
    },
    {
      "cell_type": "code",
      "metadata": {
        "id": "I3kD3D_E_Cie",
        "colab_type": "code",
        "outputId": "62713e3a-fe0d-4f0e-e6c6-287584c0e119",
        "colab": {
          "base_uri": "https://localhost:8080/",
          "height": 136
        }
      },
      "source": [
        "X = iris.data\n",
        "T = iris.target\n",
        "T"
      ],
      "execution_count": 3,
      "outputs": [
        {
          "output_type": "execute_result",
          "data": {
            "text/plain": [
              "array([0, 0, 0, 0, 0, 0, 0, 0, 0, 0, 0, 0, 0, 0, 0, 0, 0, 0, 0, 0, 0, 0,\n",
              "       0, 0, 0, 0, 0, 0, 0, 0, 0, 0, 0, 0, 0, 0, 0, 0, 0, 0, 0, 0, 0, 0,\n",
              "       0, 0, 0, 0, 0, 0, 1, 1, 1, 1, 1, 1, 1, 1, 1, 1, 1, 1, 1, 1, 1, 1,\n",
              "       1, 1, 1, 1, 1, 1, 1, 1, 1, 1, 1, 1, 1, 1, 1, 1, 1, 1, 1, 1, 1, 1,\n",
              "       1, 1, 1, 1, 1, 1, 1, 1, 1, 1, 1, 1, 2, 2, 2, 2, 2, 2, 2, 2, 2, 2,\n",
              "       2, 2, 2, 2, 2, 2, 2, 2, 2, 2, 2, 2, 2, 2, 2, 2, 2, 2, 2, 2, 2, 2,\n",
              "       2, 2, 2, 2, 2, 2, 2, 2, 2, 2, 2, 2, 2, 2, 2, 2, 2, 2])"
            ]
          },
          "metadata": {
            "tags": []
          },
          "execution_count": 3
        }
      ]
    },
    {
      "cell_type": "code",
      "metadata": {
        "id": "UAvzrhfk_KR3",
        "colab_type": "code",
        "colab": {}
      },
      "source": [
        "# One-vs-Rest な配列に変換\n",
        "\n",
        "from keras.utils import np_utils\n",
        "import tensorflow.compat.v1 as tf\n",
        "tf.disable_v2_behavior()\n",
        "T = np_utils.to_categorical(T)"
      ],
      "execution_count": 0,
      "outputs": []
    },
    {
      "cell_type": "code",
      "metadata": {
        "id": "l5mpw6E4_cH4",
        "colab_type": "code",
        "outputId": "ef4f25af-d979-4561-b7f6-8616724cfd4b",
        "colab": {
          "base_uri": "https://localhost:8080/",
          "height": 1000
        }
      },
      "source": [
        "T"
      ],
      "execution_count": 5,
      "outputs": [
        {
          "output_type": "execute_result",
          "data": {
            "text/plain": [
              "array([[1., 0., 0.],\n",
              "       [1., 0., 0.],\n",
              "       [1., 0., 0.],\n",
              "       [1., 0., 0.],\n",
              "       [1., 0., 0.],\n",
              "       [1., 0., 0.],\n",
              "       [1., 0., 0.],\n",
              "       [1., 0., 0.],\n",
              "       [1., 0., 0.],\n",
              "       [1., 0., 0.],\n",
              "       [1., 0., 0.],\n",
              "       [1., 0., 0.],\n",
              "       [1., 0., 0.],\n",
              "       [1., 0., 0.],\n",
              "       [1., 0., 0.],\n",
              "       [1., 0., 0.],\n",
              "       [1., 0., 0.],\n",
              "       [1., 0., 0.],\n",
              "       [1., 0., 0.],\n",
              "       [1., 0., 0.],\n",
              "       [1., 0., 0.],\n",
              "       [1., 0., 0.],\n",
              "       [1., 0., 0.],\n",
              "       [1., 0., 0.],\n",
              "       [1., 0., 0.],\n",
              "       [1., 0., 0.],\n",
              "       [1., 0., 0.],\n",
              "       [1., 0., 0.],\n",
              "       [1., 0., 0.],\n",
              "       [1., 0., 0.],\n",
              "       [1., 0., 0.],\n",
              "       [1., 0., 0.],\n",
              "       [1., 0., 0.],\n",
              "       [1., 0., 0.],\n",
              "       [1., 0., 0.],\n",
              "       [1., 0., 0.],\n",
              "       [1., 0., 0.],\n",
              "       [1., 0., 0.],\n",
              "       [1., 0., 0.],\n",
              "       [1., 0., 0.],\n",
              "       [1., 0., 0.],\n",
              "       [1., 0., 0.],\n",
              "       [1., 0., 0.],\n",
              "       [1., 0., 0.],\n",
              "       [1., 0., 0.],\n",
              "       [1., 0., 0.],\n",
              "       [1., 0., 0.],\n",
              "       [1., 0., 0.],\n",
              "       [1., 0., 0.],\n",
              "       [1., 0., 0.],\n",
              "       [0., 1., 0.],\n",
              "       [0., 1., 0.],\n",
              "       [0., 1., 0.],\n",
              "       [0., 1., 0.],\n",
              "       [0., 1., 0.],\n",
              "       [0., 1., 0.],\n",
              "       [0., 1., 0.],\n",
              "       [0., 1., 0.],\n",
              "       [0., 1., 0.],\n",
              "       [0., 1., 0.],\n",
              "       [0., 1., 0.],\n",
              "       [0., 1., 0.],\n",
              "       [0., 1., 0.],\n",
              "       [0., 1., 0.],\n",
              "       [0., 1., 0.],\n",
              "       [0., 1., 0.],\n",
              "       [0., 1., 0.],\n",
              "       [0., 1., 0.],\n",
              "       [0., 1., 0.],\n",
              "       [0., 1., 0.],\n",
              "       [0., 1., 0.],\n",
              "       [0., 1., 0.],\n",
              "       [0., 1., 0.],\n",
              "       [0., 1., 0.],\n",
              "       [0., 1., 0.],\n",
              "       [0., 1., 0.],\n",
              "       [0., 1., 0.],\n",
              "       [0., 1., 0.],\n",
              "       [0., 1., 0.],\n",
              "       [0., 1., 0.],\n",
              "       [0., 1., 0.],\n",
              "       [0., 1., 0.],\n",
              "       [0., 1., 0.],\n",
              "       [0., 1., 0.],\n",
              "       [0., 1., 0.],\n",
              "       [0., 1., 0.],\n",
              "       [0., 1., 0.],\n",
              "       [0., 1., 0.],\n",
              "       [0., 1., 0.],\n",
              "       [0., 1., 0.],\n",
              "       [0., 1., 0.],\n",
              "       [0., 1., 0.],\n",
              "       [0., 1., 0.],\n",
              "       [0., 1., 0.],\n",
              "       [0., 1., 0.],\n",
              "       [0., 1., 0.],\n",
              "       [0., 1., 0.],\n",
              "       [0., 1., 0.],\n",
              "       [0., 1., 0.],\n",
              "       [0., 1., 0.],\n",
              "       [0., 0., 1.],\n",
              "       [0., 0., 1.],\n",
              "       [0., 0., 1.],\n",
              "       [0., 0., 1.],\n",
              "       [0., 0., 1.],\n",
              "       [0., 0., 1.],\n",
              "       [0., 0., 1.],\n",
              "       [0., 0., 1.],\n",
              "       [0., 0., 1.],\n",
              "       [0., 0., 1.],\n",
              "       [0., 0., 1.],\n",
              "       [0., 0., 1.],\n",
              "       [0., 0., 1.],\n",
              "       [0., 0., 1.],\n",
              "       [0., 0., 1.],\n",
              "       [0., 0., 1.],\n",
              "       [0., 0., 1.],\n",
              "       [0., 0., 1.],\n",
              "       [0., 0., 1.],\n",
              "       [0., 0., 1.],\n",
              "       [0., 0., 1.],\n",
              "       [0., 0., 1.],\n",
              "       [0., 0., 1.],\n",
              "       [0., 0., 1.],\n",
              "       [0., 0., 1.],\n",
              "       [0., 0., 1.],\n",
              "       [0., 0., 1.],\n",
              "       [0., 0., 1.],\n",
              "       [0., 0., 1.],\n",
              "       [0., 0., 1.],\n",
              "       [0., 0., 1.],\n",
              "       [0., 0., 1.],\n",
              "       [0., 0., 1.],\n",
              "       [0., 0., 1.],\n",
              "       [0., 0., 1.],\n",
              "       [0., 0., 1.],\n",
              "       [0., 0., 1.],\n",
              "       [0., 0., 1.],\n",
              "       [0., 0., 1.],\n",
              "       [0., 0., 1.],\n",
              "       [0., 0., 1.],\n",
              "       [0., 0., 1.],\n",
              "       [0., 0., 1.],\n",
              "       [0., 0., 1.],\n",
              "       [0., 0., 1.],\n",
              "       [0., 0., 1.],\n",
              "       [0., 0., 1.],\n",
              "       [0., 0., 1.],\n",
              "       [0., 0., 1.],\n",
              "       [0., 0., 1.]], dtype=float32)"
            ]
          },
          "metadata": {
            "tags": []
          },
          "execution_count": 5
        }
      ]
    },
    {
      "cell_type": "code",
      "metadata": {
        "id": "L0dtIw5N_mXA",
        "colab_type": "code",
        "outputId": "df60d5f1-6ede-446a-bf37-b059091e7f45",
        "colab": {
          "base_uri": "https://localhost:8080/",
          "height": 34
        }
      },
      "source": [
        "from sklearn.model_selection import train_test_split\n",
        "import numpy as np\n",
        "np.random.seed(0) # 乱数初期化を固定値に\n",
        "train_x, test_x, train_t, test_t = train_test_split(X, T, train_size=0.8, test_size=0.2)\n",
        "len(train_x), len(test_x), len(train_t), len(test_t) # サイズ表示\n"
      ],
      "execution_count": 6,
      "outputs": [
        {
          "output_type": "execute_result",
          "data": {
            "text/plain": [
              "(120, 30, 120, 30)"
            ]
          },
          "metadata": {
            "tags": []
          },
          "execution_count": 6
        }
      ]
    },
    {
      "cell_type": "code",
      "metadata": {
        "id": "vJ-B8Ui5_-K_",
        "colab_type": "code",
        "outputId": "3335a8bd-282b-47c1-eb23-0a54b4fe0257",
        "colab": {
          "base_uri": "https://localhost:8080/",
          "height": 1000
        }
      },
      "source": [
        "from keras.models import Sequential\n",
        "from keras.layers import Dense, Activation\n",
        "from keras.optimizers import SGD\n",
        "          \n",
        "model = Sequential()\n",
        "model.add(Dense(input_dim=4, units=3)) # 入力が4種の特徴、3つに分離\n",
        "model.add(Activation('softmax'))\n",
        "model.compile(loss='categorical_crossentropy', optimizer=SGD(lr=0.1))\n",
        "model.fit(train_x, train_t, epochs=50, batch_size=10) # エポック50, ミニバッチ 10"
      ],
      "execution_count": 13,
      "outputs": [
        {
          "output_type": "stream",
          "text": [
            "Epoch 1/50\n",
            "120/120 [==============================] - 0s 983us/step - loss: 2.1432\n",
            "Epoch 2/50\n",
            "120/120 [==============================] - 0s 145us/step - loss: 1.1345\n",
            "Epoch 3/50\n",
            "120/120 [==============================] - 0s 145us/step - loss: 1.1072\n",
            "Epoch 4/50\n",
            "120/120 [==============================] - 0s 136us/step - loss: 1.1294\n",
            "Epoch 5/50\n",
            "120/120 [==============================] - 0s 157us/step - loss: 0.5943\n",
            "Epoch 6/50\n",
            "120/120 [==============================] - 0s 147us/step - loss: 0.5263\n",
            "Epoch 7/50\n",
            "120/120 [==============================] - 0s 144us/step - loss: 0.7399\n",
            "Epoch 8/50\n",
            "120/120 [==============================] - 0s 174us/step - loss: 0.5337\n",
            "Epoch 9/50\n",
            "120/120 [==============================] - 0s 142us/step - loss: 0.4642\n",
            "Epoch 10/50\n",
            "120/120 [==============================] - 0s 147us/step - loss: 0.4894\n",
            "Epoch 11/50\n",
            "120/120 [==============================] - 0s 145us/step - loss: 0.6410\n",
            "Epoch 12/50\n",
            "120/120 [==============================] - 0s 143us/step - loss: 0.6905\n",
            "Epoch 13/50\n",
            "120/120 [==============================] - 0s 168us/step - loss: 0.6248\n",
            "Epoch 14/50\n",
            "120/120 [==============================] - 0s 145us/step - loss: 0.4969\n",
            "Epoch 15/50\n",
            "120/120 [==============================] - 0s 133us/step - loss: 0.3154\n",
            "Epoch 16/50\n",
            "120/120 [==============================] - 0s 192us/step - loss: 0.3704\n",
            "Epoch 17/50\n",
            "120/120 [==============================] - 0s 135us/step - loss: 0.6360\n",
            "Epoch 18/50\n",
            "120/120 [==============================] - 0s 137us/step - loss: 0.4122\n",
            "Epoch 19/50\n",
            "120/120 [==============================] - 0s 136us/step - loss: 0.3022\n",
            "Epoch 20/50\n",
            "120/120 [==============================] - 0s 133us/step - loss: 0.6092\n",
            "Epoch 21/50\n",
            "120/120 [==============================] - 0s 162us/step - loss: 0.2975\n",
            "Epoch 22/50\n",
            "120/120 [==============================] - 0s 176us/step - loss: 0.3533\n",
            "Epoch 23/50\n",
            "120/120 [==============================] - 0s 164us/step - loss: 0.4630\n",
            "Epoch 24/50\n",
            "120/120 [==============================] - 0s 148us/step - loss: 0.3324\n",
            "Epoch 25/50\n",
            "120/120 [==============================] - 0s 142us/step - loss: 0.2757\n",
            "Epoch 26/50\n",
            "120/120 [==============================] - 0s 138us/step - loss: 0.2835\n",
            "Epoch 27/50\n",
            "120/120 [==============================] - 0s 168us/step - loss: 0.2337\n",
            "Epoch 28/50\n",
            "120/120 [==============================] - 0s 152us/step - loss: 0.2678\n",
            "Epoch 29/50\n",
            "120/120 [==============================] - 0s 181us/step - loss: 0.3132\n",
            "Epoch 30/50\n",
            "120/120 [==============================] - 0s 167us/step - loss: 0.2591\n",
            "Epoch 31/50\n",
            "120/120 [==============================] - 0s 158us/step - loss: 0.2294\n",
            "Epoch 32/50\n",
            "120/120 [==============================] - 0s 183us/step - loss: 0.2146\n",
            "Epoch 33/50\n",
            "120/120 [==============================] - 0s 171us/step - loss: 0.2339\n",
            "Epoch 34/50\n",
            "120/120 [==============================] - 0s 138us/step - loss: 0.2019\n",
            "Epoch 35/50\n",
            "120/120 [==============================] - 0s 153us/step - loss: 0.2018\n",
            "Epoch 36/50\n",
            "120/120 [==============================] - 0s 162us/step - loss: 0.2154\n",
            "Epoch 37/50\n",
            "120/120 [==============================] - 0s 137us/step - loss: 0.1886\n",
            "Epoch 38/50\n",
            "120/120 [==============================] - 0s 155us/step - loss: 0.1964\n",
            "Epoch 39/50\n",
            "120/120 [==============================] - 0s 168us/step - loss: 0.2892\n",
            "Epoch 40/50\n",
            "120/120 [==============================] - 0s 167us/step - loss: 0.3806\n",
            "Epoch 41/50\n",
            "120/120 [==============================] - 0s 147us/step - loss: 0.2842\n",
            "Epoch 42/50\n",
            "120/120 [==============================] - 0s 133us/step - loss: 0.1798\n",
            "Epoch 43/50\n",
            "120/120 [==============================] - 0s 144us/step - loss: 0.2078\n",
            "Epoch 44/50\n",
            "120/120 [==============================] - 0s 149us/step - loss: 0.2238\n",
            "Epoch 45/50\n",
            "120/120 [==============================] - 0s 150us/step - loss: 0.2299\n",
            "Epoch 46/50\n",
            "120/120 [==============================] - 0s 134us/step - loss: 0.1997\n",
            "Epoch 47/50\n",
            "120/120 [==============================] - 0s 158us/step - loss: 0.1756\n",
            "Epoch 48/50\n",
            "120/120 [==============================] - 0s 144us/step - loss: 0.1797\n",
            "Epoch 49/50\n",
            "120/120 [==============================] - 0s 177us/step - loss: 0.1609\n",
            "Epoch 50/50\n",
            "120/120 [==============================] - 0s 134us/step - loss: 0.2313\n"
          ],
          "name": "stdout"
        },
        {
          "output_type": "execute_result",
          "data": {
            "text/plain": [
              "<keras.callbacks.History at 0x7fe9cf085b00>"
            ]
          },
          "metadata": {
            "tags": []
          },
          "execution_count": 13
        }
      ]
    },
    {
      "cell_type": "code",
      "metadata": {
        "id": "dbZmfVMUAXXu",
        "colab_type": "code",
        "outputId": "7063559b-b93e-4dca-fb2c-293e3d9cea52",
        "colab": {
          "base_uri": "https://localhost:8080/",
          "height": 51
        }
      },
      "source": [
        "Y = model.predict_classes(test_x, batch_size=10) # ミニバッチは訓練時と同じく 10\n",
        "Y"
      ],
      "execution_count": 8,
      "outputs": [
        {
          "output_type": "execute_result",
          "data": {
            "text/plain": [
              "array([2, 1, 0, 2, 0, 2, 0, 1, 1, 1, 2, 1, 1, 1, 1, 0, 1, 1, 0, 0, 2, 2,\n",
              "       0, 0, 2, 0, 0, 1, 1, 0])"
            ]
          },
          "metadata": {
            "tags": []
          },
          "execution_count": 8
        }
      ]
    },
    {
      "cell_type": "code",
      "metadata": {
        "id": "C42A6OBLAnOc",
        "colab_type": "code",
        "outputId": "d0530388-6090-4b7c-f09a-2f276c7fed4e",
        "colab": {
          "base_uri": "https://localhost:8080/",
          "height": 34
        }
      },
      "source": [
        "import numpy as np\n",
        "_, T_index = np.where(test_t > 0)\n",
        "print(T_index)"
      ],
      "execution_count": 9,
      "outputs": [
        {
          "output_type": "stream",
          "text": [
            "[2 1 0 2 0 2 0 1 1 1 2 1 1 1 1 0 1 1 0 0 2 1 0 0 2 0 0 1 1 0]\n"
          ],
          "name": "stdout"
        }
      ]
    },
    {
      "cell_type": "code",
      "metadata": {
        "id": "kqeWvsdhAv_O",
        "colab_type": "code",
        "outputId": "c7bd55db-ca4a-47d7-f40f-6f05442aa3ab",
        "colab": {
          "base_uri": "https://localhost:8080/",
          "height": 85
        }
      },
      "source": [
        "Y == T_index"
      ],
      "execution_count": 10,
      "outputs": [
        {
          "output_type": "execute_result",
          "data": {
            "text/plain": [
              "array([ True,  True,  True,  True,  True,  True,  True,  True,  True,\n",
              "        True,  True,  True,  True,  True,  True,  True,  True,  True,\n",
              "        True,  True,  True, False,  True,  True,  True,  True,  True,\n",
              "        True,  True,  True])"
            ]
          },
          "metadata": {
            "tags": []
          },
          "execution_count": 10
        }
      ]
    },
    {
      "cell_type": "markdown",
      "metadata": {
        "id": "pw9lfxVeA6ou",
        "colab_type": "text"
      },
      "source": [
        "参考\n",
        "\n",
        "https://www.infiniteloop.co.jp/blog/2018/01/learning-keras-04/"
      ]
    }
  ]
}