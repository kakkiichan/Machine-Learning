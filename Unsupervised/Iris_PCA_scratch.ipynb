{
  "nbformat": 4,
  "nbformat_minor": 0,
  "metadata": {
    "colab": {
      "name": "Iris_PCA_scratch.ipynb",
      "provenance": [],
      "authorship_tag": "ABX9TyMuPapIgbmtCrY2nLvxxm6Q",
      "include_colab_link": true
    },
    "kernelspec": {
      "name": "python3",
      "display_name": "Python 3"
    }
  },
  "cells": [
    {
      "cell_type": "markdown",
      "metadata": {
        "id": "view-in-github",
        "colab_type": "text"
      },
      "source": [
        "<a href=\"https://colab.research.google.com/github/kakkiichan/Machine-Learning/blob/master/Unsupervised/Iris_PCA_scratch.ipynb\" target=\"_parent\"><img src=\"https://colab.research.google.com/assets/colab-badge.svg\" alt=\"Open In Colab\"/></a>"
      ]
    },
    {
      "cell_type": "code",
      "metadata": {
        "id": "GVG2IL5VB1Vy",
        "colab_type": "code",
        "colab": {}
      },
      "source": [
        "import numpy as np\n",
        "import pandas as pd\n",
        "import matplotlib.pyplot as plt\n",
        "%matplotlib inline\n",
        "\n",
        "from sklearn.datasets import load_iris\n",
        "ds = load_iris()"
      ],
      "execution_count": 0,
      "outputs": []
    },
    {
      "cell_type": "code",
      "metadata": {
        "id": "xWSWG5oICYpk",
        "colab_type": "code",
        "outputId": "01a68b3d-7081-4b78-e843-e61b8f0a7f58",
        "colab": {
          "base_uri": "https://localhost:8080/",
          "height": 419
        }
      },
      "source": [
        "iris_data = ds.data\n",
        "iris_target = ds.target\n",
        "iris_feature= ds.feature_names\n",
        "\n",
        "iris = pd.DataFrame(data=iris_data,columns=iris_feature)\n",
        "iris_target =pd.DataFrame(data=iris_target,columns=[\"class\"])\n",
        "\n",
        "iris"
      ],
      "execution_count": 57,
      "outputs": [
        {
          "output_type": "execute_result",
          "data": {
            "text/html": [
              "<div>\n",
              "<style scoped>\n",
              "    .dataframe tbody tr th:only-of-type {\n",
              "        vertical-align: middle;\n",
              "    }\n",
              "\n",
              "    .dataframe tbody tr th {\n",
              "        vertical-align: top;\n",
              "    }\n",
              "\n",
              "    .dataframe thead th {\n",
              "        text-align: right;\n",
              "    }\n",
              "</style>\n",
              "<table border=\"1\" class=\"dataframe\">\n",
              "  <thead>\n",
              "    <tr style=\"text-align: right;\">\n",
              "      <th></th>\n",
              "      <th>sepal length (cm)</th>\n",
              "      <th>sepal width (cm)</th>\n",
              "      <th>petal length (cm)</th>\n",
              "      <th>petal width (cm)</th>\n",
              "    </tr>\n",
              "  </thead>\n",
              "  <tbody>\n",
              "    <tr>\n",
              "      <th>0</th>\n",
              "      <td>5.1</td>\n",
              "      <td>3.5</td>\n",
              "      <td>1.4</td>\n",
              "      <td>0.2</td>\n",
              "    </tr>\n",
              "    <tr>\n",
              "      <th>1</th>\n",
              "      <td>4.9</td>\n",
              "      <td>3.0</td>\n",
              "      <td>1.4</td>\n",
              "      <td>0.2</td>\n",
              "    </tr>\n",
              "    <tr>\n",
              "      <th>2</th>\n",
              "      <td>4.7</td>\n",
              "      <td>3.2</td>\n",
              "      <td>1.3</td>\n",
              "      <td>0.2</td>\n",
              "    </tr>\n",
              "    <tr>\n",
              "      <th>3</th>\n",
              "      <td>4.6</td>\n",
              "      <td>3.1</td>\n",
              "      <td>1.5</td>\n",
              "      <td>0.2</td>\n",
              "    </tr>\n",
              "    <tr>\n",
              "      <th>4</th>\n",
              "      <td>5.0</td>\n",
              "      <td>3.6</td>\n",
              "      <td>1.4</td>\n",
              "      <td>0.2</td>\n",
              "    </tr>\n",
              "    <tr>\n",
              "      <th>...</th>\n",
              "      <td>...</td>\n",
              "      <td>...</td>\n",
              "      <td>...</td>\n",
              "      <td>...</td>\n",
              "    </tr>\n",
              "    <tr>\n",
              "      <th>145</th>\n",
              "      <td>6.7</td>\n",
              "      <td>3.0</td>\n",
              "      <td>5.2</td>\n",
              "      <td>2.3</td>\n",
              "    </tr>\n",
              "    <tr>\n",
              "      <th>146</th>\n",
              "      <td>6.3</td>\n",
              "      <td>2.5</td>\n",
              "      <td>5.0</td>\n",
              "      <td>1.9</td>\n",
              "    </tr>\n",
              "    <tr>\n",
              "      <th>147</th>\n",
              "      <td>6.5</td>\n",
              "      <td>3.0</td>\n",
              "      <td>5.2</td>\n",
              "      <td>2.0</td>\n",
              "    </tr>\n",
              "    <tr>\n",
              "      <th>148</th>\n",
              "      <td>6.2</td>\n",
              "      <td>3.4</td>\n",
              "      <td>5.4</td>\n",
              "      <td>2.3</td>\n",
              "    </tr>\n",
              "    <tr>\n",
              "      <th>149</th>\n",
              "      <td>5.9</td>\n",
              "      <td>3.0</td>\n",
              "      <td>5.1</td>\n",
              "      <td>1.8</td>\n",
              "    </tr>\n",
              "  </tbody>\n",
              "</table>\n",
              "<p>150 rows × 4 columns</p>\n",
              "</div>"
            ],
            "text/plain": [
              "     sepal length (cm)  sepal width (cm)  petal length (cm)  petal width (cm)\n",
              "0                  5.1               3.5                1.4               0.2\n",
              "1                  4.9               3.0                1.4               0.2\n",
              "2                  4.7               3.2                1.3               0.2\n",
              "3                  4.6               3.1                1.5               0.2\n",
              "4                  5.0               3.6                1.4               0.2\n",
              "..                 ...               ...                ...               ...\n",
              "145                6.7               3.0                5.2               2.3\n",
              "146                6.3               2.5                5.0               1.9\n",
              "147                6.5               3.0                5.2               2.0\n",
              "148                6.2               3.4                5.4               2.3\n",
              "149                5.9               3.0                5.1               1.8\n",
              "\n",
              "[150 rows x 4 columns]"
            ]
          },
          "metadata": {
            "tags": []
          },
          "execution_count": 57
        }
      ]
    },
    {
      "cell_type": "code",
      "metadata": {
        "id": "p1LN7ZWFUkIV",
        "colab_type": "code",
        "colab": {}
      },
      "source": [
        "iris_n = iris.iloc[:, :].apply(lambda x: (x-x.mean())/x.std(), axis=0)"
      ],
      "execution_count": 0,
      "outputs": []
    },
    {
      "cell_type": "code",
      "metadata": {
        "id": "1x64IDtLTBz5",
        "colab_type": "code",
        "colab": {
          "base_uri": "https://localhost:8080/",
          "height": 173
        },
        "outputId": "3b439ca8-00d2-4023-da96-a72be147d98b"
      },
      "source": [
        "iris_c = iris.corr()\n",
        "iris_c"
      ],
      "execution_count": 59,
      "outputs": [
        {
          "output_type": "execute_result",
          "data": {
            "text/html": [
              "<div>\n",
              "<style scoped>\n",
              "    .dataframe tbody tr th:only-of-type {\n",
              "        vertical-align: middle;\n",
              "    }\n",
              "\n",
              "    .dataframe tbody tr th {\n",
              "        vertical-align: top;\n",
              "    }\n",
              "\n",
              "    .dataframe thead th {\n",
              "        text-align: right;\n",
              "    }\n",
              "</style>\n",
              "<table border=\"1\" class=\"dataframe\">\n",
              "  <thead>\n",
              "    <tr style=\"text-align: right;\">\n",
              "      <th></th>\n",
              "      <th>sepal length (cm)</th>\n",
              "      <th>sepal width (cm)</th>\n",
              "      <th>petal length (cm)</th>\n",
              "      <th>petal width (cm)</th>\n",
              "    </tr>\n",
              "  </thead>\n",
              "  <tbody>\n",
              "    <tr>\n",
              "      <th>sepal length (cm)</th>\n",
              "      <td>1.000000</td>\n",
              "      <td>-0.117570</td>\n",
              "      <td>0.871754</td>\n",
              "      <td>0.817941</td>\n",
              "    </tr>\n",
              "    <tr>\n",
              "      <th>sepal width (cm)</th>\n",
              "      <td>-0.117570</td>\n",
              "      <td>1.000000</td>\n",
              "      <td>-0.428440</td>\n",
              "      <td>-0.366126</td>\n",
              "    </tr>\n",
              "    <tr>\n",
              "      <th>petal length (cm)</th>\n",
              "      <td>0.871754</td>\n",
              "      <td>-0.428440</td>\n",
              "      <td>1.000000</td>\n",
              "      <td>0.962865</td>\n",
              "    </tr>\n",
              "    <tr>\n",
              "      <th>petal width (cm)</th>\n",
              "      <td>0.817941</td>\n",
              "      <td>-0.366126</td>\n",
              "      <td>0.962865</td>\n",
              "      <td>1.000000</td>\n",
              "    </tr>\n",
              "  </tbody>\n",
              "</table>\n",
              "</div>"
            ],
            "text/plain": [
              "                   sepal length (cm)  ...  petal width (cm)\n",
              "sepal length (cm)           1.000000  ...          0.817941\n",
              "sepal width (cm)           -0.117570  ...         -0.366126\n",
              "petal length (cm)           0.871754  ...          0.962865\n",
              "petal width (cm)            0.817941  ...          1.000000\n",
              "\n",
              "[4 rows x 4 columns]"
            ]
          },
          "metadata": {
            "tags": []
          },
          "execution_count": 59
        }
      ]
    },
    {
      "cell_type": "code",
      "metadata": {
        "id": "t_h-7PHIGOv8",
        "colab_type": "code",
        "outputId": "3685fc2e-0193-441b-cf45-9e804cb8ee0e",
        "colab": {
          "base_uri": "https://localhost:8080/",
          "height": 34
        }
      },
      "source": [
        "# 固有値と固有ベクトル\n",
        "eig_val, eig_vec =np.linalg.eig(iris_c)\n",
        "\n",
        "# 固有値\n",
        "eig_val"
      ],
      "execution_count": 60,
      "outputs": [
        {
          "output_type": "execute_result",
          "data": {
            "text/plain": [
              "array([2.91849782, 0.91403047, 0.14675688, 0.02071484])"
            ]
          },
          "metadata": {
            "tags": []
          },
          "execution_count": 60
        }
      ]
    },
    {
      "cell_type": "code",
      "metadata": {
        "id": "z_H6qHHKKQfW",
        "colab_type": "code",
        "outputId": "993d76ca-d118-4536-c45c-a12c765bda0f",
        "colab": {
          "base_uri": "https://localhost:8080/",
          "height": 85
        }
      },
      "source": [
        "# 固有ベクトル\n",
        "eig_vec"
      ],
      "execution_count": 61,
      "outputs": [
        {
          "output_type": "execute_result",
          "data": {
            "text/plain": [
              "array([[ 0.52106591, -0.37741762, -0.71956635,  0.26128628],\n",
              "       [-0.26934744, -0.92329566,  0.24438178, -0.12350962],\n",
              "       [ 0.5804131 , -0.02449161,  0.14212637, -0.80144925],\n",
              "       [ 0.56485654, -0.06694199,  0.63427274,  0.52359713]])"
            ]
          },
          "metadata": {
            "tags": []
          },
          "execution_count": 61
        }
      ]
    },
    {
      "cell_type": "code",
      "metadata": {
        "id": "1noiBESmKwqn",
        "colab_type": "code",
        "colab": {
          "base_uri": "https://localhost:8080/",
          "height": 34
        },
        "outputId": "56927c06-3b41-4fd6-b55d-574c28621bee"
      },
      "source": [
        "eig_vec_pc1 = eig_vec[:, 0]\n",
        "eig_vec_pc1"
      ],
      "execution_count": 62,
      "outputs": [
        {
          "output_type": "execute_result",
          "data": {
            "text/plain": [
              "array([ 0.52106591, -0.26934744,  0.5804131 ,  0.56485654])"
            ]
          },
          "metadata": {
            "tags": []
          },
          "execution_count": 62
        }
      ]
    },
    {
      "cell_type": "code",
      "metadata": {
        "id": "zbjnn32FK6JR",
        "colab_type": "code",
        "outputId": "745d9daa-1d88-4aec-8541-11f2c54089fc",
        "colab": {
          "base_uri": "https://localhost:8080/",
          "height": 527
        }
      },
      "source": [
        "# 主成分得点(PC1)\n",
        "pc1 = np.dot(iris_n, eig_vec_pc1)\n",
        "pc1"
      ],
      "execution_count": 63,
      "outputs": [
        {
          "output_type": "execute_result",
          "data": {
            "text/plain": [
              "array([-2.25714118, -2.07401302, -2.35633511, -2.29170679, -2.3818627 ,\n",
              "       -2.06870061, -2.43586845, -2.22539189, -2.32684533, -2.17703491,\n",
              "       -2.15907699, -2.31836413, -2.2110437 , -2.62430902, -2.19139921,\n",
              "       -2.25466121, -2.20021676, -2.18303613, -1.89223284, -2.33554476,\n",
              "       -1.90793125, -2.19964383, -2.76508142, -1.81259716, -2.21972701,\n",
              "       -1.9453293 , -2.04430277, -2.1613365 , -2.13241965, -2.25769799,\n",
              "       -2.13297647, -1.82547925, -2.60621687, -2.43800983, -2.10292986,\n",
              "       -2.20043723, -2.03831765, -2.51889339, -2.42152026, -2.16246625,\n",
              "       -2.27884081, -1.85191836, -2.54511203, -1.95788857, -2.12992356,\n",
              "       -2.06283361, -2.37677076, -2.38638171, -2.22200263, -2.19647504,\n",
              "        1.09810244,  0.72889556,  1.2368358 ,  0.40612251,  1.07188379,\n",
              "        0.38738955,  0.74403715, -0.48569562,  0.92480346,  0.01138804,\n",
              "       -0.10982834,  0.43922201,  0.56023148,  0.71715934, -0.03324333,\n",
              "        0.87248429,  0.34908221,  0.1582798 ,  1.22100316,  0.16436725,\n",
              "        0.73521959,  0.47469691,  1.23005729,  0.63074514,  0.70031506,\n",
              "        0.87135454,  1.25231375,  1.35386953,  0.66258066, -0.04012419,\n",
              "        0.13035846,  0.02337438,  0.2407318 ,  1.05755171,  0.22323093,\n",
              "        0.42770626,  1.04522645,  1.04104379,  0.06935597,  0.28253073,\n",
              "        0.27814596,  0.62248441,  0.33540673, -0.36097409,  0.28762268,\n",
              "        0.09105561,  0.22695654,  0.57446378, -0.4461723 ,  0.25587339,\n",
              "        1.83841002,  1.15401555,  2.19790361,  1.43534213,  1.86157577,\n",
              "        2.74268509,  0.36579225,  2.29475181,  1.99998633,  2.25223216,\n",
              "        1.35962064,  1.59732747,  1.87761053,  1.25590769,  1.46274487,\n",
              "        1.5847682 ,  1.46651849,  2.4182277 ,  3.29964148,  1.25954707,\n",
              "        2.03091256,  0.97471535,  2.8879765 ,  1.32878064,  1.6950553 ,\n",
              "        1.94780139,  1.17118007,  1.01754169,  1.78237879,  1.85742501,\n",
              "        2.4278203 ,  2.29723178,  1.85648383,  1.1104277 ,  1.19845835,\n",
              "        2.78942561,  1.57099294,  1.34179696,  0.92173701,  1.84586124,\n",
              "        2.00808316,  1.89543421,  1.15401555,  2.03374499,  1.99147547,\n",
              "        1.86425786,  1.55935649,  1.51609145,  1.36820418,  0.95744849])"
            ]
          },
          "metadata": {
            "tags": []
          },
          "execution_count": 63
        }
      ]
    },
    {
      "cell_type": "code",
      "metadata": {
        "id": "UUQzmfzLOzzt",
        "colab_type": "code",
        "outputId": "6a1c03fd-a9a0-4f98-f895-b8904172e8bd",
        "colab": {
          "base_uri": "https://localhost:8080/",
          "height": 34
        }
      },
      "source": [
        "# 相関行列の固有値の第1成分を、主成分分析では「第1主成分(PC1)の固有値」と言います\n",
        "eig_val_pc1 = eig_val[0]\n",
        "eig_val_pc1"
      ],
      "execution_count": 64,
      "outputs": [
        {
          "output_type": "execute_result",
          "data": {
            "text/plain": [
              "2.9184978165319957"
            ]
          },
          "metadata": {
            "tags": []
          },
          "execution_count": 64
        }
      ]
    },
    {
      "cell_type": "code",
      "metadata": {
        "id": "8o70wPygLDeJ",
        "colab_type": "code",
        "outputId": "b8ed7d41-d424-433b-8092-d2a85d807c73",
        "colab": {
          "base_uri": "https://localhost:8080/",
          "height": 173
        }
      },
      "source": [
        "# 相関行列から、PC1の影響を取り除いた相関行列2を作成します\n",
        "matrix = []\n",
        "for d1 in eig_vec_pc1:\n",
        "    mat = []\n",
        "    for d2 in eig_vec_pc1:\n",
        "        mat.append(d1 * d2)\n",
        "    matrix.append(mat)\n",
        "matrix = np.array(matrix)\n",
        "dfc2 = iris_c - matrix * eig_val_pc1\n",
        "dfc2"
      ],
      "execution_count": 68,
      "outputs": [
        {
          "output_type": "execute_result",
          "data": {
            "text/html": [
              "<div>\n",
              "<style scoped>\n",
              "    .dataframe tbody tr th:only-of-type {\n",
              "        vertical-align: middle;\n",
              "    }\n",
              "\n",
              "    .dataframe tbody tr th {\n",
              "        vertical-align: top;\n",
              "    }\n",
              "\n",
              "    .dataframe thead th {\n",
              "        text-align: right;\n",
              "    }\n",
              "</style>\n",
              "<table border=\"1\" class=\"dataframe\">\n",
              "  <thead>\n",
              "    <tr style=\"text-align: right;\">\n",
              "      <th></th>\n",
              "      <th>sepal length (cm)</th>\n",
              "      <th>sepal width (cm)</th>\n",
              "      <th>petal length (cm)</th>\n",
              "      <th>petal width (cm)</th>\n",
              "    </tr>\n",
              "  </thead>\n",
              "  <tbody>\n",
              "    <tr>\n",
              "      <th>sepal length (cm)</th>\n",
              "      <td>0.207600</td>\n",
              "      <td>0.292035</td>\n",
              "      <td>-0.010898</td>\n",
              "      <td>-0.041053</td>\n",
              "    </tr>\n",
              "    <tr>\n",
              "      <th>sepal width (cm)</th>\n",
              "      <td>0.292035</td>\n",
              "      <td>0.788269</td>\n",
              "      <td>0.027817</td>\n",
              "      <td>0.077902</td>\n",
              "    </tr>\n",
              "    <tr>\n",
              "      <th>petal length (cm)</th>\n",
              "      <td>-0.010898</td>\n",
              "      <td>0.027817</td>\n",
              "      <td>0.016818</td>\n",
              "      <td>0.006036</td>\n",
              "    </tr>\n",
              "    <tr>\n",
              "      <th>petal width (cm)</th>\n",
              "      <td>-0.041053</td>\n",
              "      <td>0.077902</td>\n",
              "      <td>0.006036</td>\n",
              "      <td>0.068816</td>\n",
              "    </tr>\n",
              "  </tbody>\n",
              "</table>\n",
              "</div>"
            ],
            "text/plain": [
              "                   sepal length (cm)  ...  petal width (cm)\n",
              "sepal length (cm)           0.207600  ...         -0.041053\n",
              "sepal width (cm)            0.292035  ...          0.077902\n",
              "petal length (cm)          -0.010898  ...          0.006036\n",
              "petal width (cm)           -0.041053  ...          0.068816\n",
              "\n",
              "[4 rows x 4 columns]"
            ]
          },
          "metadata": {
            "tags": []
          },
          "execution_count": 68
        }
      ]
    },
    {
      "cell_type": "code",
      "metadata": {
        "id": "keFCy4KpPYeh",
        "colab_type": "code",
        "outputId": "481eba47-3feb-4138-b185-64edce3401b9",
        "colab": {
          "base_uri": "https://localhost:8080/",
          "height": 34
        }
      },
      "source": [
        "# 固有値と固有ベクトル\n",
        "eig_val2, eig_vec2 =np.linalg.eig(dfc2)\n",
        "\n",
        "# 固有値\n",
        "eig_val2"
      ],
      "execution_count": 69,
      "outputs": [
        {
          "output_type": "execute_result",
          "data": {
            "text/plain": [
              "array([ 9.14030471e-01,  1.46756876e-01, -1.52995455e-15,  2.07148364e-02])"
            ]
          },
          "metadata": {
            "tags": []
          },
          "execution_count": 69
        }
      ]
    },
    {
      "cell_type": "code",
      "metadata": {
        "id": "hKm9kG-SPwuR",
        "colab_type": "code",
        "outputId": "706f1361-0a7c-4414-f804-252bbd7363da",
        "colab": {
          "base_uri": "https://localhost:8080/",
          "height": 85
        }
      },
      "source": [
        "#固有ベクトル\n",
        "eig_vec2"
      ],
      "execution_count": 70,
      "outputs": [
        {
          "output_type": "execute_result",
          "data": {
            "text/plain": [
              "array([[ 0.37741762,  0.71956635,  0.52106591,  0.26128628],\n",
              "       [ 0.92329566, -0.24438178, -0.26934744, -0.12350962],\n",
              "       [ 0.02449161, -0.14212637,  0.5804131 , -0.80144925],\n",
              "       [ 0.06694199, -0.63427274,  0.56485654,  0.52359713]])"
            ]
          },
          "metadata": {
            "tags": []
          },
          "execution_count": 70
        }
      ]
    },
    {
      "cell_type": "code",
      "metadata": {
        "id": "4i5wObpUXbev",
        "colab_type": "code",
        "colab": {
          "base_uri": "https://localhost:8080/",
          "height": 34
        },
        "outputId": "9433c06b-0b86-41a9-8906-61f96e723bb0"
      },
      "source": [
        "eig_vec_pc2 = eig_vec2[:, 0]\n",
        "eig_vec_pc2"
      ],
      "execution_count": 71,
      "outputs": [
        {
          "output_type": "execute_result",
          "data": {
            "text/plain": [
              "array([0.37741762, 0.92329566, 0.02449161, 0.06694199])"
            ]
          },
          "metadata": {
            "tags": []
          },
          "execution_count": 71
        }
      ]
    },
    {
      "cell_type": "code",
      "metadata": {
        "id": "nhoTOvAnWEfL",
        "colab_type": "code",
        "colab": {
          "base_uri": "https://localhost:8080/",
          "height": 34
        },
        "outputId": "344861b7-3447-4b66-c748-6cb872b9eb80"
      },
      "source": [
        "# 相関行列2の固有値の第1成分を、主成分分析では「第2主成分(PC2)の固有値」と言います\n",
        "eig_val_pc2 = eig_val2[0]\n",
        "eig_val_pc2"
      ],
      "execution_count": 72,
      "outputs": [
        {
          "output_type": "execute_result",
          "data": {
            "text/plain": [
              "0.9140304714680701"
            ]
          },
          "metadata": {
            "tags": []
          },
          "execution_count": 72
        }
      ]
    },
    {
      "cell_type": "code",
      "metadata": {
        "id": "bxhu1bPFP4bi",
        "colab_type": "code",
        "outputId": "c943c491-e415-402d-ddd1-71e4d4c51786",
        "colab": {
          "base_uri": "https://localhost:8080/",
          "height": 173
        }
      },
      "source": [
        "# 相関行列2から、PC2の影響を取り除いた相関行列3を作成します\n",
        "matrix = []\n",
        "for d1 in eig_vec_pc2:\n",
        "    mat = []\n",
        "    for d2 in eig_vec_pc2:\n",
        "        mat.append(d1 * d2)\n",
        "    matrix.append(mat)\n",
        "matrix = np.array(matrix)\n",
        "dfc3 = dfc2 - matrix * eig_vec_pc2\n",
        "dfc3"
      ],
      "execution_count": 98,
      "outputs": [
        {
          "output_type": "execute_result",
          "data": {
            "text/html": [
              "<div>\n",
              "<style scoped>\n",
              "    .dataframe tbody tr th:only-of-type {\n",
              "        vertical-align: middle;\n",
              "    }\n",
              "\n",
              "    .dataframe tbody tr th {\n",
              "        vertical-align: top;\n",
              "    }\n",
              "\n",
              "    .dataframe thead th {\n",
              "        text-align: right;\n",
              "    }\n",
              "</style>\n",
              "<table border=\"1\" class=\"dataframe\">\n",
              "  <thead>\n",
              "    <tr style=\"text-align: right;\">\n",
              "      <th></th>\n",
              "      <th>sepal length (cm)</th>\n",
              "      <th>sepal width (cm)</th>\n",
              "      <th>petal length (cm)</th>\n",
              "      <th>petal width (cm)</th>\n",
              "    </tr>\n",
              "  </thead>\n",
              "  <tbody>\n",
              "    <tr>\n",
              "      <th>sepal length (cm)</th>\n",
              "      <td>0.153839</td>\n",
              "      <td>-0.029704</td>\n",
              "      <td>-0.011124</td>\n",
              "      <td>-0.042744</td>\n",
              "    </tr>\n",
              "    <tr>\n",
              "      <th>sepal width (cm)</th>\n",
              "      <td>0.160517</td>\n",
              "      <td>0.001182</td>\n",
              "      <td>0.027263</td>\n",
              "      <td>0.073765</td>\n",
              "    </tr>\n",
              "    <tr>\n",
              "      <th>petal length (cm)</th>\n",
              "      <td>-0.014386</td>\n",
              "      <td>0.006938</td>\n",
              "      <td>0.016804</td>\n",
              "      <td>0.005926</td>\n",
              "    </tr>\n",
              "    <tr>\n",
              "      <th>petal width (cm)</th>\n",
              "      <td>-0.050588</td>\n",
              "      <td>0.020836</td>\n",
              "      <td>0.005995</td>\n",
              "      <td>0.068516</td>\n",
              "    </tr>\n",
              "  </tbody>\n",
              "</table>\n",
              "</div>"
            ],
            "text/plain": [
              "                   sepal length (cm)  ...  petal width (cm)\n",
              "sepal length (cm)           0.153839  ...         -0.042744\n",
              "sepal width (cm)            0.160517  ...          0.073765\n",
              "petal length (cm)          -0.014386  ...          0.005926\n",
              "petal width (cm)           -0.050588  ...          0.068516\n",
              "\n",
              "[4 rows x 4 columns]"
            ]
          },
          "metadata": {
            "tags": []
          },
          "execution_count": 98
        }
      ]
    },
    {
      "cell_type": "code",
      "metadata": {
        "id": "Qy9B7GPGQIGY",
        "colab_type": "code",
        "outputId": "e414861e-e101-435f-f89c-7d1d59c4fe1c",
        "colab": {
          "base_uri": "https://localhost:8080/",
          "height": 34
        }
      },
      "source": [
        "# 固有値と固有ベクトル\n",
        "eig_val3, eig_vec3 =np.linalg.eig(dfc3)\n",
        "\n",
        "# 固有値\n",
        "eig_val3"
      ],
      "execution_count": 99,
      "outputs": [
        {
          "output_type": "execute_result",
          "data": {
            "text/plain": [
              "array([ 1.46756876e-01,  7.28685500e-02, -1.27322237e-15,  2.07148364e-02])"
            ]
          },
          "metadata": {
            "tags": []
          },
          "execution_count": 99
        }
      ]
    },
    {
      "cell_type": "code",
      "metadata": {
        "id": "dbl7aDenQSnm",
        "colab_type": "code",
        "outputId": "0f539ae4-9e5a-4bd1-d14e-cbb638eb780c",
        "colab": {
          "base_uri": "https://localhost:8080/",
          "height": 85
        }
      },
      "source": [
        "eig_vec3"
      ],
      "execution_count": 100,
      "outputs": [
        {
          "output_type": "execute_result",
          "data": {
            "text/plain": [
              "array([[ 0.7165528 ,  0.37741762, -0.11590412,  0.13478603],\n",
              "       [ 0.62638665,  0.92329566, -0.94920678,  0.80171065],\n",
              "       [-0.05961036,  0.02449161,  0.22812552,  0.51518999],\n",
              "       [-0.30106222,  0.06694199,  0.183116  , -0.27142592]])"
            ]
          },
          "metadata": {
            "tags": []
          },
          "execution_count": 100
        }
      ]
    },
    {
      "cell_type": "code",
      "metadata": {
        "id": "t7ZldFJEQgy8",
        "colab_type": "code",
        "outputId": "6ead953b-a570-4c5c-b99a-455bfa10ed17",
        "colab": {
          "base_uri": "https://localhost:8080/",
          "height": 34
        }
      },
      "source": [
        "eig_vec_pc3 = eig_vec3[:, 0]\n",
        "eig_vec_pc3"
      ],
      "execution_count": 101,
      "outputs": [
        {
          "output_type": "execute_result",
          "data": {
            "text/plain": [
              "array([ 0.7165528 ,  0.62638665, -0.05961036, -0.30106222])"
            ]
          },
          "metadata": {
            "tags": []
          },
          "execution_count": 101
        }
      ]
    },
    {
      "cell_type": "code",
      "metadata": {
        "id": "-yKkL1ogX6KH",
        "colab_type": "code",
        "colab": {
          "base_uri": "https://localhost:8080/",
          "height": 34
        },
        "outputId": "2c613432-f586-4599-b2b0-5170a211ca6f"
      },
      "source": [
        "# 相関行列3の固有値の第1成分を、主成分分析では「第3主成分(PC3)の固有値」と言います\n",
        "eig_val_pc3 = eig_val3[0]\n",
        "eig_val_pc3"
      ],
      "execution_count": 102,
      "outputs": [
        {
          "output_type": "execute_result",
          "data": {
            "text/plain": [
              "0.14675687557131445"
            ]
          },
          "metadata": {
            "tags": []
          },
          "execution_count": 102
        }
      ]
    },
    {
      "cell_type": "code",
      "metadata": {
        "id": "AM33gdbVYCAu",
        "colab_type": "code",
        "colab": {
          "base_uri": "https://localhost:8080/",
          "height": 173
        },
        "outputId": "038a7a28-5f90-46c1-f95f-b90f0dfd64d1"
      },
      "source": [
        "# 相関行列3から、PC3の影響を取り除いた相関行列4を作成します\n",
        "matrix = []\n",
        "for d1 in eig_vec_pc3:\n",
        "    mat = []\n",
        "    for d2 in eig_vec_pc3:\n",
        "        mat.append(d1 * d2)\n",
        "    matrix.append(mat)\n",
        "matrix = np.array(matrix)\n",
        "dfc4 = dfc3 - matrix * eig_vec_pc3\n",
        "dfc4"
      ],
      "execution_count": 104,
      "outputs": [
        {
          "output_type": "execute_result",
          "data": {
            "text/html": [
              "<div>\n",
              "<style scoped>\n",
              "    .dataframe tbody tr th:only-of-type {\n",
              "        vertical-align: middle;\n",
              "    }\n",
              "\n",
              "    .dataframe tbody tr th {\n",
              "        vertical-align: top;\n",
              "    }\n",
              "\n",
              "    .dataframe thead th {\n",
              "        text-align: right;\n",
              "    }\n",
              "</style>\n",
              "<table border=\"1\" class=\"dataframe\">\n",
              "  <thead>\n",
              "    <tr style=\"text-align: right;\">\n",
              "      <th></th>\n",
              "      <th>sepal length (cm)</th>\n",
              "      <th>sepal width (cm)</th>\n",
              "      <th>petal length (cm)</th>\n",
              "      <th>petal width (cm)</th>\n",
              "    </tr>\n",
              "  </thead>\n",
              "  <tbody>\n",
              "    <tr>\n",
              "      <th>sepal length (cm)</th>\n",
              "      <td>-0.214074</td>\n",
              "      <td>-0.310851</td>\n",
              "      <td>-0.013670</td>\n",
              "      <td>-0.107692</td>\n",
              "    </tr>\n",
              "    <tr>\n",
              "      <th>sepal width (cm)</th>\n",
              "      <td>-0.161100</td>\n",
              "      <td>-0.244587</td>\n",
              "      <td>0.025037</td>\n",
              "      <td>0.016990</td>\n",
              "    </tr>\n",
              "    <tr>\n",
              "      <th>petal length (cm)</th>\n",
              "      <td>0.016220</td>\n",
              "      <td>0.030327</td>\n",
              "      <td>0.017015</td>\n",
              "      <td>0.011329</td>\n",
              "    </tr>\n",
              "    <tr>\n",
              "      <th>petal width (cm)</th>\n",
              "      <td>0.103991</td>\n",
              "      <td>0.138961</td>\n",
              "      <td>0.007065</td>\n",
              "      <td>0.095803</td>\n",
              "    </tr>\n",
              "  </tbody>\n",
              "</table>\n",
              "</div>"
            ],
            "text/plain": [
              "                   sepal length (cm)  ...  petal width (cm)\n",
              "sepal length (cm)          -0.214074  ...         -0.107692\n",
              "sepal width (cm)           -0.161100  ...          0.016990\n",
              "petal length (cm)           0.016220  ...          0.011329\n",
              "petal width (cm)            0.103991  ...          0.095803\n",
              "\n",
              "[4 rows x 4 columns]"
            ]
          },
          "metadata": {
            "tags": []
          },
          "execution_count": 104
        }
      ]
    },
    {
      "cell_type": "code",
      "metadata": {
        "id": "dD4-qrneYKKU",
        "colab_type": "code",
        "colab": {
          "base_uri": "https://localhost:8080/",
          "height": 34
        },
        "outputId": "6f08e23c-980e-4863-e2a2-8a19d1a72c76"
      },
      "source": [
        "# 固有値と固有ベクトル\n",
        "eig_val4, eig_vec4 =np.linalg.eig(dfc4)\n",
        "\n",
        "# 固有値\n",
        "eig_val4"
      ],
      "execution_count": 105,
      "outputs": [
        {
          "output_type": "execute_result",
          "data": {
            "text/plain": [
              "array([-4.39425236e-01,  7.28685500e-02, -1.22383845e-15,  2.07148364e-02])"
            ]
          },
          "metadata": {
            "tags": []
          },
          "execution_count": 105
        }
      ]
    },
    {
      "cell_type": "code",
      "metadata": {
        "id": "KgA0jmEVYRur",
        "colab_type": "code",
        "colab": {
          "base_uri": "https://localhost:8080/",
          "height": 85
        },
        "outputId": "76f2c6ce-1333-49cc-fcd9-5f024a142884"
      },
      "source": [
        "eig_vec4"
      ],
      "execution_count": 106,
      "outputs": [
        {
          "output_type": "execute_result",
          "data": {
            "text/plain": [
              "array([[ 0.7165528 ,  0.65581495,  0.80688711,  0.5535999 ],\n",
              "       [ 0.62638665, -0.37828207, -0.51621225, -0.40193847],\n",
              "       [-0.05961036, -0.14418574,  0.24764758, -0.72793518],\n",
              "       [-0.30106222, -0.63719691, -0.14535744,  0.04563986]])"
            ]
          },
          "metadata": {
            "tags": []
          },
          "execution_count": 106
        }
      ]
    },
    {
      "cell_type": "code",
      "metadata": {
        "id": "L-q8bM7EYeT1",
        "colab_type": "code",
        "colab": {
          "base_uri": "https://localhost:8080/",
          "height": 34
        },
        "outputId": "77d3adb4-1ad7-41c0-a709-5b919a993844"
      },
      "source": [
        "eig_vec_pc4 = eig_vec4[:, 0]\n",
        "eig_vec_pc4"
      ],
      "execution_count": 94,
      "outputs": [
        {
          "output_type": "execute_result",
          "data": {
            "text/plain": [
              "array([ 0.7165528 ,  0.62638665, -0.05961036, -0.30106222])"
            ]
          },
          "metadata": {
            "tags": []
          },
          "execution_count": 94
        }
      ]
    },
    {
      "cell_type": "code",
      "metadata": {
        "id": "gGCzNz0oYght",
        "colab_type": "code",
        "colab": {
          "base_uri": "https://localhost:8080/",
          "height": 34
        },
        "outputId": "b4f98753-cee3-45ee-c471-a6065841eaa3"
      },
      "source": [
        "# 相関行列4の固有値の第1成分を、主成分分析では「第4主成分(PC4)の固有値」と言います\n",
        "eig_val_pc4 = eig_val4[0]\n",
        "eig_val_pc4"
      ],
      "execution_count": 95,
      "outputs": [
        {
          "output_type": "execute_result",
          "data": {
            "text/plain": [
              "-0.4394252358736846"
            ]
          },
          "metadata": {
            "tags": []
          },
          "execution_count": 95
        }
      ]
    },
    {
      "cell_type": "code",
      "metadata": {
        "id": "S-rg3ejtZqoB",
        "colab_type": "code",
        "colab": {
          "base_uri": "https://localhost:8080/",
          "height": 34
        },
        "outputId": "22f400df-bbf9-4b3c-eef6-02230a876869"
      },
      "source": [
        "eig_val_pca = np.array([eig_val_pc1, eig_val_pc2, eig_val_pc3, eig_val_pc4])\n",
        "eig_val_pca"
      ],
      "execution_count": 96,
      "outputs": [
        {
          "output_type": "execute_result",
          "data": {
            "text/plain": [
              "array([ 2.91849782,  0.91403047,  0.14675688, -0.43942524])"
            ]
          },
          "metadata": {
            "tags": []
          },
          "execution_count": 96
        }
      ]
    },
    {
      "cell_type": "code",
      "metadata": {
        "id": "nJuQpuL8ZuEL",
        "colab_type": "code",
        "colab": {
          "base_uri": "https://localhost:8080/",
          "height": 34
        },
        "outputId": "57aaa530-7393-473e-d139-a356cd430e72"
      },
      "source": [
        "eig_val_pca / eig_val_pca.sum()"
      ],
      "execution_count": 97,
      "outputs": [
        {
          "output_type": "execute_result",
          "data": {
            "text/plain": [
              "array([ 0.82446703,  0.25821092,  0.04145838, -0.12413633])"
            ]
          },
          "metadata": {
            "tags": []
          },
          "execution_count": 97
        }
      ]
    },
    {
      "cell_type": "markdown",
      "metadata": {
        "id": "-tDf0pKNQoXe",
        "colab_type": "text"
      },
      "source": [
        "◯参考\n",
        "https://qiita.com/maskot1977/items/082557fcda78c4cdb41f"
      ]
    }
  ]
}